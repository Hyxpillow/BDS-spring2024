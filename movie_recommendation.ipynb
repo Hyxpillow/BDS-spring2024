{
 "cells": [
  {
   "cell_type": "code",
   "execution_count": 1,
   "metadata": {},
   "outputs": [],
   "source": [
    "import os\n",
    "from pyspark.sql import SparkSession\n",
    "from pyspark.ml.recommendation import ALS\n",
    "from pyspark.sql.functions import lit, max, col\n",
    "from pyspark.ml.evaluation import RegressionEvaluator\n",
    "from pyspark.ml.tuning import ParamGridBuilder, CrossValidator\n",
    "import matplotlib.pyplot as plt\n"
   ]
  },
  {
   "cell_type": "code",
   "execution_count": 2,
   "metadata": {},
   "outputs": [
    {
     "name": "stderr",
     "output_type": "stream",
     "text": [
      "Setting default log level to \"WARN\".\n",
      "To adjust logging level use sc.setLogLevel(newLevel). For SparkR, use setLogLevel(newLevel).\n",
      "24/05/17 00:12:36 WARN NativeCodeLoader: Unable to load native-hadoop library for your platform... using builtin-java classes where applicable\n"
     ]
    }
   ],
   "source": [
    "os.environ[\"PYSPARK_PYTHON\"]=\"/usr/local/bin/python3.11\"\n",
    "os.environ[\"PYSPARK_DRIVER_PYTHON\"]=\"/usr/local/bin/python3.11\"\n",
    "\n",
    "spark = SparkSession.builder \\\n",
    "    .appName(\"movie recommendation\") \\\n",
    "    .config(\"spark.executor.memory\", \"4g\") \\\n",
    "    .config(\"spark.driver.memory\", \"4g\") \\\n",
    "    .getOrCreate()\n",
    "sc = spark.sparkContext"
   ]
  },
  {
   "cell_type": "markdown",
   "metadata": {},
   "source": [
    "## Data Loading"
   ]
  },
  {
   "cell_type": "code",
   "execution_count": 3,
   "metadata": {},
   "outputs": [
    {
     "name": "stdout",
     "output_type": "stream",
     "text": [
      "+-------+--------------------+--------------------+\n",
      "|movieId|               title|              genres|\n",
      "+-------+--------------------+--------------------+\n",
      "|      1|    Toy Story (1995)|Adventure|Animati...|\n",
      "|      2|      Jumanji (1995)|Adventure|Childre...|\n",
      "|      3|Grumpier Old Men ...|      Comedy|Romance|\n",
      "|      4|Waiting to Exhale...|Comedy|Drama|Romance|\n",
      "|      5|Father of the Bri...|              Comedy|\n",
      "+-------+--------------------+--------------------+\n",
      "only showing top 5 rows\n",
      "\n"
     ]
    }
   ],
   "source": [
    "movies = spark.read.load(\"datasets/movie_lens/movies.csv\", format=\"csv\", header=True, inferSchema=True)\n",
    "movies.show(5)"
   ]
  },
  {
   "cell_type": "code",
   "execution_count": 4,
   "metadata": {},
   "outputs": [
    {
     "name": "stdout",
     "output_type": "stream",
     "text": [
      "+------+-------+------+---------+\n",
      "|userId|movieId|rating|timestamp|\n",
      "+------+-------+------+---------+\n",
      "|     1|      1|   4.0|964982703|\n",
      "|     1|      3|   4.0|964981247|\n",
      "|     1|      6|   4.0|964982224|\n",
      "|     1|     47|   5.0|964983815|\n",
      "|     1|     50|   5.0|964982931|\n",
      "+------+-------+------+---------+\n",
      "only showing top 5 rows\n",
      "\n"
     ]
    }
   ],
   "source": [
    "ratings = spark.read.load(\"datasets/movie_lens/ratings.csv\", format=\"csv\", header=True, inferSchema=True)\n",
    "ratings.show(5)"
   ]
  },
  {
   "cell_type": "markdown",
   "metadata": {},
   "source": [
    "## Data Ingestion"
   ]
  },
  {
   "cell_type": "code",
   "execution_count": 5,
   "metadata": {},
   "outputs": [
    {
     "name": "stderr",
     "output_type": "stream",
     "text": [
      "                                                                                \r"
     ]
    },
    {
     "name": "stdout",
     "output_type": "stream",
     "text": [
      "min # of ratings per user is 20\n",
      "min # of ratings per movie is 1\n"
     ]
    }
   ],
   "source": [
    "# Check for missing values in user and movie ratings\n",
    "min_ratings_per_user = ratings.groupBy(\"userId\").count().agg({\"count\": \"min\"}).collect()[0][0]\n",
    "min_ratings_per_movie = ratings.groupBy(\"movieId\").count().agg({\"count\": \"min\"}).collect()[0][0]\n",
    "print(\"min # of ratings per user is\", min_ratings_per_user)\n",
    "print(\"min # of ratings per movie is\", min_ratings_per_movie)"
   ]
  },
  {
   "cell_type": "code",
   "execution_count": 6,
   "metadata": {},
   "outputs": [
    {
     "name": "stdout",
     "output_type": "stream",
     "text": [
      "3446 out of 9724 movies are rated by only one user\n"
     ]
    }
   ],
   "source": [
    "# Check how many movies are rated by only one user\n",
    "count_single_rating_movies = ratings.groupBy(\"movieId\").count().filter(\"count = 1\").count()\n",
    "count_movies = ratings.select(\"movieId\").distinct().count()\n",
    "print(count_single_rating_movies, \"out of\", count_movies, \"movies are rated by only one user\")"
   ]
  },
  {
   "cell_type": "code",
   "execution_count": 7,
   "metadata": {},
   "outputs": [
    {
     "name": "stdout",
     "output_type": "stream",
     "text": [
      "total number of users rated is 610\n",
      "total number of movies rated is 9724\n"
     ]
    }
   ],
   "source": [
    "# Check the number of users and movies rated\n",
    "count_users_rated = ratings.select(\"userId\").distinct().count()\n",
    "count_movies_rated = ratings.select(\"movieId\").distinct().count()\n",
    "print(\"total number of users rated is\", count_users_rated)\n",
    "print(\"total number of movies rated is\", count_movies_rated)"
   ]
  },
  {
   "cell_type": "code",
   "execution_count": 8,
   "metadata": {},
   "outputs": [
    {
     "name": "stdout",
     "output_type": "stream",
     "text": [
      "total number of movies is 9742\n",
      "total number of movies rated is 9724\n"
     ]
    }
   ],
   "source": [
    "# Compare the number of movies in the movies.csv and ratings.csv, i.e., how many movies are not rated\n",
    "count_movies = movies.select(\"movieId\").distinct().count()\n",
    "print(\"total number of movies is\", count_movies)\n",
    "print(\"total number of movies rated is\", count_movies_rated)"
   ]
  },
  {
   "cell_type": "code",
   "execution_count": 9,
   "metadata": {},
   "outputs": [
    {
     "name": "stdout",
     "output_type": "stream",
     "text": [
      "movies that are not rated yet:\n",
      "+-------+--------------------+\n",
      "|movieId|               title|\n",
      "+-------+--------------------+\n",
      "|   1076|Innocents, The (1...|\n",
      "|   2939|      Niagara (1953)|\n",
      "|   3338|For All Mankind (...|\n",
      "|   3456|Color of Paradise...|\n",
      "|   4194|I Know Where I'm ...|\n",
      "|   5721|  Chosen, The (1981)|\n",
      "|   6668|Road Home, The (W...|\n",
      "|   6849|      Scrooge (1970)|\n",
      "|   7020|        Proof (1991)|\n",
      "|   7792|Parallax View, Th...|\n",
      "+-------+--------------------+\n",
      "only showing top 10 rows\n",
      "\n"
     ]
    }
   ],
   "source": [
    "# Find all unrated movies\n",
    "unrated_movies = movies.join(ratings, \"movieId\", \"left_anti\")\n",
    "print(\"movies that are not rated yet:\")\n",
    "unrated_movies.select(\"movieId\", \"title\").show(10)"
   ]
  },
  {
   "cell_type": "markdown",
   "metadata": {},
   "source": [
    "## Spark ALS model"
   ]
  },
  {
   "cell_type": "code",
   "execution_count": 10,
   "metadata": {},
   "outputs": [
    {
     "data": {
      "text/plain": [
       "DataFrame[userId: int, movieId: int, rating: double, timestamp: int]"
      ]
     },
     "execution_count": 10,
     "metadata": {},
     "output_type": "execute_result"
    }
   ],
   "source": [
    "train, test = ratings.randomSplit([0.6, 0.2], seed=42)\n",
    "train.cache()\n",
    "test.cache()"
   ]
  },
  {
   "cell_type": "code",
   "execution_count": 11,
   "metadata": {},
   "outputs": [
    {
     "name": "stderr",
     "output_type": "stream",
     "text": [
      "24/05/17 00:12:56 WARN InstanceBuilder: Failed to load implementation from:dev.ludovic.netlib.blas.JNIBLAS\n",
      "24/05/17 00:12:56 WARN InstanceBuilder: Failed to load implementation from:dev.ludovic.netlib.blas.VectorBLAS\n",
      "24/05/17 00:12:56 WARN InstanceBuilder: Failed to load implementation from:dev.ludovic.netlib.lapack.JNILAPACK\n",
      "                                                                                \r"
     ]
    },
    {
     "name": "stdout",
     "output_type": "stream",
     "text": [
      "\n",
      "The best model has 8 latent factors and regularization = 0.2, with RMSE = 0.8777094566371567\n"
     ]
    }
   ],
   "source": [
    "als = ALS(\n",
    "    maxIter=10,\n",
    "    userCol=\"userId\",\n",
    "    itemCol=\"movieId\",\n",
    "    ratingCol=\"rating\",\n",
    "    coldStartStrategy=\"drop\",\n",
    "    seed=42\n",
    ")\n",
    "\n",
    "paramGrid = ParamGridBuilder() \\\n",
    "    .addGrid(als.rank, [8, 10, 12, 14, 16, 18, 20]) \\\n",
    "    .addGrid(als.regParam, [0.001, 0.01, 0.05, 0.1, 0.2]) \\\n",
    "    .build()\n",
    "\n",
    "evaluator = RegressionEvaluator(\n",
    "    metricName=\"rmse\",\n",
    "    labelCol=\"rating\",\n",
    "    predictionCol=\"prediction\"\n",
    ")\n",
    "\n",
    "crossval = CrossValidator(\n",
    "    estimator=als,\n",
    "    estimatorParamMaps=paramGrid,\n",
    "    evaluator=evaluator,\n",
    "    numFolds=3\n",
    ")\n",
    "\n",
    "cvModel = crossval.fit(train)\n",
    "\n",
    "predictions = cvModel.bestModel.transform(test)\n",
    "\n",
    "best_rmse = evaluator.evaluate(predictions)\n",
    "\n",
    "print(\"\\nThe best model has {} latent factors and regularization = {}, with RMSE = {}\".format(\n",
    "    cvModel.bestModel.rank, \n",
    "    cvModel.bestModel._java_obj.parent().getRegParam(), \n",
    "    best_rmse\n",
    "))\n",
    "\n",
    "best_rank = cvModel.bestModel.rank\n",
    "best_reg_param = cvModel.bestModel._java_obj.parent().getRegParam()"
   ]
  },
  {
   "cell_type": "code",
   "execution_count": 12,
   "metadata": {},
   "outputs": [
    {
     "name": "stdout",
     "output_type": "stream",
     "text": [
      "RMSE for maxIter=1: 2.960147371777554\n",
      "RMSE for maxIter=2: 0.979301237196032\n",
      "RMSE for maxIter=3: 0.894851030304415\n",
      "RMSE for maxIter=4: 0.8852729900206947\n",
      "RMSE for maxIter=5: 0.8817369116108571\n",
      "RMSE for maxIter=6: 0.8799561684529165\n",
      "RMSE for maxIter=7: 0.8789455309190056\n",
      "RMSE for maxIter=8: 0.8783305335186165\n",
      "RMSE for maxIter=9: 0.8779477616834745\n"
     ]
    },
    {
     "data": {
      "image/png": "[encoded data removed]",
      "text/plain": [
       "<Figure size 1000x500 with 1 Axes>"
      ]
     },
     "metadata": {},
     "output_type": "display_data"
    }
   ],
   "source": [
    "evaluator = RegressionEvaluator(\n",
    "    metricName=\"rmse\",\n",
    "    labelCol=\"rating\",\n",
    "    predictionCol=\"prediction\"\n",
    ")\n",
    "\n",
    "iter_range = range(1, 10)\n",
    "rmse_values = []\n",
    "\n",
    "for maxIter in iter_range:\n",
    "    als = ALS(\n",
    "        maxIter=maxIter,\n",
    "        rank=best_rank,\n",
    "        regParam=best_reg_param,\n",
    "        userCol=\"userId\",\n",
    "        itemCol=\"movieId\",\n",
    "        ratingCol=\"rating\",\n",
    "        coldStartStrategy=\"drop\",\n",
    "        seed=42\n",
    "    )\n",
    "    model = als.fit(train)\n",
    "\n",
    "    predictions = model.transform(test)\n",
    "    rmse = evaluator.evaluate(predictions)\n",
    "    rmse_values.append(rmse)\n",
    "    print(f\"RMSE for maxIter={maxIter}: {rmse}\")\n",
    "\n",
    "plt.figure(figsize=(10, 5))\n",
    "plt.plot(iter_range, rmse_values, marker='o')\n",
    "plt.title('RMSE vs. Number of Iterations')\n",
    "plt.xlabel('Number of Iterations')\n",
    "plt.ylabel('RMSE')\n",
    "plt.grid(True)\n",
    "plt.show()"
   ]
  },
  {
   "cell_type": "markdown",
   "metadata": {},
   "source": [
    "## Make Recommendations"
   ]
  },
  {
   "cell_type": "code",
   "execution_count": 13,
   "metadata": {},
   "outputs": [
    {
     "name": "stdout",
     "output_type": "stream",
     "text": [
      "Top 10 movie recommendations for user 611:\n",
      "1: Burnt by the Sun (Utomlyonnye solntsem) (1994)\n",
      "2: Shawshank Redemption, The (1994)\n",
      "3: Shawshank Redemption, The (1994)\n",
      "4: Shawshank Redemption, The (1994)\n",
      "5: Forrest Gump (1994)\n",
      "6: Roman Holiday (1953)\n",
      "7: Sunset Blvd. (a.k.a. Sunset Boulevard) (1950)\n",
      "8: River Runs Through It, A (1992)\n",
      "9: Trial, The (Procès, Le) (1962)\n",
      "10: Three Billboards Outside Ebbing, Missouri (2017)\n"
     ]
    }
   ],
   "source": [
    "favorites = [\"Toy Story\"]\n",
    "favorite_ids = movies.filter(movies.title.rlike(\"|\".join([f\".*{fav}.*\" for fav in favorites]))) \\\n",
    "                        .select(\"movieId\").distinct()\n",
    "\n",
    "new_user_id = ratings.select(max(\"userId\")).collect()[0][0] + 1\n",
    "highest_rating = ratings.select(max(\"rating\")).collect()[0][0]\n",
    "\n",
    "new_user_data = favorite_ids.withColumn(\"userId\", lit(new_user_id)) \\\n",
    "                            .withColumn(\"rating\", lit(highest_rating)) \\\n",
    "                            .withColumn(\"timestamp\", lit(0))\n",
    "\n",
    "training_data = ratings.union(new_user_data)\n",
    "\n",
    "als = ALS(\n",
    "    maxIter=10,\n",
    "    rank=best_rank,\n",
    "    regParam=best_reg_param,\n",
    "    userCol=\"userId\",\n",
    "    itemCol=\"movieId\",\n",
    "    ratingCol=\"rating\",\n",
    "    coldStartStrategy=\"drop\",\n",
    "    seed=42\n",
    ")\n",
    "model = als.fit(training_data)\n",
    "\n",
    "user_recommendations = model.transform(training_data) \\\n",
    "                            .where(col(\"userId\") != lit(new_user_id)) \\\n",
    "                            .sort(\"prediction\", ascending=False) \\\n",
    "                            .limit(10) \\\n",
    "                            .join(movies, \"movieId\") \\\n",
    "                            .select(\"title\") \\\n",
    "                            .collect()\n",
    "\n",
    "print(f\"Top 10 movie recommendations for user {new_user_id}:\")\n",
    "for i, movie in enumerate(user_recommendations):\n",
    "    print(f\"{i+1}: {movie.title}\")\n",
    "\n",
    "\n",
    "\n"
   ]
  }
 ],
 "metadata": {
  "kernelspec": {
   "display_name": "Python 3 (ipykernel)",
   "language": "python",
   "name": "python3"
  },
  "language_info": {
   "codemirror_mode": {
    "name": "ipython",
    "version": 3
   },
   "file_extension": ".py",
   "mimetype": "text/x-python",
   "name": "python",
   "nbconvert_exporter": "python",
   "pygments_lexer": "ipython3",
   "version": "3.11.9"
  }
 },
 "nbformat": 4,
 "nbformat_minor": 2
}
