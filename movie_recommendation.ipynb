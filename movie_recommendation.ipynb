{
 "cells": [
  {
   "cell_type": "code",
   "execution_count": 1,
   "metadata": {},
   "outputs": [],
   "source": [
    "import os\n",
    "from pyspark.sql import SparkSession\n",
    "from pyspark.ml.recommendation import ALS\n",
    "from pyspark.sql.functions import lit, max, col\n",
    "from pyspark.ml.evaluation import RegressionEvaluator\n",
    "from pyspark.ml.tuning import ParamGridBuilder, CrossValidator\n",
    "import matplotlib.pyplot as plt"
   ]
  },
  {
   "cell_type": "code",
   "execution_count": 2,
   "metadata": {},
   "outputs": [
    {
     "name": "stderr",
     "output_type": "stream",
     "text": [
      "WARNING: An illegal reflective access operation has occurred\n",
      "WARNING: Illegal reflective access by org.apache.spark.unsafe.Platform (file:/ext3/spark-3.1.2-bin-hadoop3.2/jars/spark-unsafe_2.12-3.1.2.jar) to constructor java.nio.DirectByteBuffer(long,int)\n",
      "WARNING: Please consider reporting this to the maintainers of org.apache.spark.unsafe.Platform\n",
      "WARNING: Use --illegal-access=warn to enable warnings of further illegal reflective access operations\n",
      "WARNING: All illegal access operations will be denied in a future release\n",
      "24/05/17 03:02:24 WARN NativeCodeLoader: Unable to load native-hadoop library for your platform... using builtin-java classes where applicable\n",
      "Using Spark's default log4j profile: org/apache/spark/log4j-defaults.properties\n",
      "Setting default log level to \"WARN\".\n",
      "To adjust logging level use sc.setLogLevel(newLevel). For SparkR, use setLogLevel(newLevel).\n"
     ]
    }
   ],
   "source": [
    "spark = SparkSession.builder \\\n",
    "    .appName(\"movie_recommender\") \\\n",
    "    .config(\"spark.executor.memory\", \"32g\") \\\n",
    "    .config(\"spark.driver.memory\", \"32g\") \\\n",
    "    .getOrCreate()\n",
    "sc = spark.sparkContext"
   ]
  },
  {
   "cell_type": "markdown",
   "metadata": {},
   "source": [
    "## Data Loading"
   ]
  },
  {
   "cell_type": "code",
   "execution_count": 3,
   "metadata": {},
   "outputs": [
    {
     "name": "stdout",
     "output_type": "stream",
     "text": [
      "+-------+--------------------+--------------------+\n",
      "|movieId|               title|              genres|\n",
      "+-------+--------------------+--------------------+\n",
      "|      1|    Toy Story (1995)|Adventure|Animati...|\n",
      "|      2|      Jumanji (1995)|Adventure|Childre...|\n",
      "|      3|Grumpier Old Men ...|      Comedy|Romance|\n",
      "|      4|Waiting to Exhale...|Comedy|Drama|Romance|\n",
      "|      5|Father of the Bri...|              Comedy|\n",
      "+-------+--------------------+--------------------+\n",
      "only showing top 5 rows\n",
      "\n"
     ]
    }
   ],
   "source": [
    "movies = spark.read.load(\"datasets/movie_lens/movies.csv\", format=\"csv\", header=True, inferSchema=True)\n",
    "movies.show(5)"
   ]
  },
  {
   "cell_type": "code",
   "execution_count": 4,
   "metadata": {},
   "outputs": [
    {
     "name": "stderr",
     "output_type": "stream",
     "text": [
      "                                                                                \r"
     ]
    },
    {
     "name": "stdout",
     "output_type": "stream",
     "text": [
      "+------+-------+------+----------+\n",
      "|userId|movieId|rating| timestamp|\n",
      "+------+-------+------+----------+\n",
      "|     1|      1|   4.0|1225734739|\n",
      "|     1|    110|   4.0|1225865086|\n",
      "|     1|    158|   4.0|1225733503|\n",
      "|     1|    260|   4.5|1225735204|\n",
      "|     1|    356|   5.0|1225735119|\n",
      "+------+-------+------+----------+\n",
      "only showing top 5 rows\n",
      "\n"
     ]
    }
   ],
   "source": [
    "ratings = spark.read.load(\"datasets/movie_lens/ratings.csv\", format=\"csv\", header=True, inferSchema=True)\n",
    "ratings.show(5)"
   ]
  },
  {
   "cell_type": "markdown",
   "metadata": {},
   "source": [
    "## Data Ingestion"
   ]
  },
  {
   "cell_type": "code",
   "execution_count": 5,
   "metadata": {},
   "outputs": [
    {
     "name": "stderr",
     "output_type": "stream",
     "text": [
      "[Stage 9:=================================================>       (14 + 2) / 16]\r"
     ]
    },
    {
     "name": "stdout",
     "output_type": "stream",
     "text": [
      "min # of ratings per user is 1\n",
      "min # of ratings per movie is 1\n"
     ]
    },
    {
     "name": "stderr",
     "output_type": "stream",
     "text": [
      "\r",
      "                                                                                \r"
     ]
    }
   ],
   "source": [
    "# Check for missing values in user and movie ratings\n",
    "min_ratings_per_user = ratings.groupBy(\"userId\").count().agg({\"count\": \"min\"}).collect()[0][0]\n",
    "min_ratings_per_movie = ratings.groupBy(\"movieId\").count().agg({\"count\": \"min\"}).collect()[0][0]\n",
    "print(\"min # of ratings per user is\", min_ratings_per_user)\n",
    "print(\"min # of ratings per movie is\", min_ratings_per_movie)"
   ]
  },
  {
   "cell_type": "code",
   "execution_count": 6,
   "metadata": {},
   "outputs": [
    {
     "name": "stderr",
     "output_type": "stream",
     "text": [
      "[Stage 15:===>                                                    (1 + 15) / 16]\r"
     ]
    },
    {
     "name": "stdout",
     "output_type": "stream",
     "text": [
      "17916 out of 83239 movies are rated by only one user\n"
     ]
    },
    {
     "name": "stderr",
     "output_type": "stream",
     "text": [
      "\r",
      "                                                                                \r"
     ]
    }
   ],
   "source": [
    "# Check how many movies are rated by only one user\n",
    "count_single_rating_movies = ratings.groupBy(\"movieId\").count().filter(\"count = 1\").count()\n",
    "count_movies = ratings.select(\"movieId\").distinct().count()\n",
    "print(count_single_rating_movies, \"out of\", count_movies, \"movies are rated by only one user\")"
   ]
  },
  {
   "cell_type": "code",
   "execution_count": 7,
   "metadata": {},
   "outputs": [
    {
     "name": "stderr",
     "output_type": "stream",
     "text": [
      "[Stage 21:====================================================>   (15 + 1) / 16]\r"
     ]
    },
    {
     "name": "stdout",
     "output_type": "stream",
     "text": [
      "total number of users rated is 330975\n",
      "total number of movies rated is 83239\n"
     ]
    },
    {
     "name": "stderr",
     "output_type": "stream",
     "text": [
      "\r",
      "                                                                                \r"
     ]
    }
   ],
   "source": [
    "# Check the number of users and movies rated\n",
    "count_users_rated = ratings.select(\"userId\").distinct().count()\n",
    "count_movies_rated = ratings.select(\"movieId\").distinct().count()\n",
    "print(\"total number of users rated is\", count_users_rated)\n",
    "print(\"total number of movies rated is\", count_movies_rated)"
   ]
  },
  {
   "cell_type": "code",
   "execution_count": 8,
   "metadata": {},
   "outputs": [
    {
     "name": "stdout",
     "output_type": "stream",
     "text": [
      "total number of movies is 86537\n",
      "total number of movies rated is 83239\n"
     ]
    }
   ],
   "source": [
    "# Compare the number of movies in the movies.csv and ratings.csv, i.e., how many movies are not rated\n",
    "count_movies = movies.select(\"movieId\").distinct().count()\n",
    "print(\"total number of movies is\", count_movies)\n",
    "print(\"total number of movies rated is\", count_movies_rated)"
   ]
  },
  {
   "cell_type": "code",
   "execution_count": 9,
   "metadata": {},
   "outputs": [
    {
     "name": "stdout",
     "output_type": "stream",
     "text": [
      "movies that are not rated yet:\n"
     ]
    },
    {
     "name": "stderr",
     "output_type": "stream",
     "text": [
      "[Stage 27:====================================================>   (15 + 1) / 16]\r"
     ]
    },
    {
     "name": "stdout",
     "output_type": "stream",
     "text": [
      "+-------+--------------------+\n",
      "|movieId|               title|\n",
      "+-------+--------------------+\n",
      "| 104656|Across the Sierra...|\n",
      "| 105796|Back in the Saddl...|\n",
      "| 121749|    War Drums (1957)|\n",
      "| 124743|I Take This Woman...|\n",
      "| 128131|The Castro's Abbe...|\n",
      "| 147958|While New York Sl...|\n",
      "| 150822| Mask of Dust (1954)|\n",
      "| 156156|Swordswomen Three...|\n",
      "| 156296|Time Out for Rhyt...|\n",
      "| 156527|Paris Playboys (1...|\n",
      "+-------+--------------------+\n",
      "only showing top 10 rows\n",
      "\n"
     ]
    },
    {
     "name": "stderr",
     "output_type": "stream",
     "text": [
      "\r",
      "                                                                                \r"
     ]
    }
   ],
   "source": [
    "# Find all unrated movies\n",
    "unrated_movies = movies.join(ratings, \"movieId\", \"left_anti\")\n",
    "print(\"movies that are not rated yet:\")\n",
    "unrated_movies.select(\"movieId\", \"title\").show(10)"
   ]
  },
  {
   "cell_type": "markdown",
   "metadata": {},
   "source": [
    "## Spark ALS model"
   ]
  },
  {
   "cell_type": "code",
   "execution_count": 10,
   "metadata": {},
   "outputs": [
    {
     "data": {
      "text/plain": [
       "DataFrame[userId: int, movieId: int, rating: double, timestamp: int]"
      ]
     },
     "execution_count": 10,
     "metadata": {},
     "output_type": "execute_result"
    }
   ],
   "source": [
    "train, test = ratings.randomSplit([0.8, 0.2], seed=42)\n",
    "train.cache()\n",
    "test.cache()"
   ]
  },
  {
   "cell_type": "code",
   "execution_count": 11,
   "metadata": {},
   "outputs": [
    {
     "name": "stderr",
     "output_type": "stream",
     "text": [
      "24/05/17 03:03:08 WARN BLAS: Failed to load implementation from: com.github.fommil.netlib.NativeSystemBLAS\n",
      "24/05/17 03:03:08 WARN BLAS: Failed to load implementation from: com.github.fommil.netlib.NativeRefBLAS\n",
      "24/05/17 03:03:08 WARN LAPACK: Failed to load implementation from: com.github.fommil.netlib.NativeSystemLAPACK\n",
      "24/05/17 03:03:08 WARN LAPACK: Failed to load implementation from: com.github.fommil.netlib.NativeRefLAPACK\n",
      "[Stage 8826:==========================================>        (165 + 16) / 200]\r"
     ]
    },
    {
     "name": "stdout",
     "output_type": "stream",
     "text": [
      "\n",
      "The best model has 20 latent factors and regularization = 0.05, with RMSE = 0.7907421734667001\n"
     ]
    },
    {
     "name": "stderr",
     "output_type": "stream",
     "text": [
      "\r",
      "[Stage 8826:================================================>  (190 + 10) / 200]\r",
      "\r",
      "                                                                                \r"
     ]
    }
   ],
   "source": [
    "als = ALS(\n",
    "    maxIter=10,\n",
    "    userCol=\"userId\",\n",
    "    itemCol=\"movieId\",\n",
    "    ratingCol=\"rating\",\n",
    "    coldStartStrategy=\"drop\",\n",
    "    seed=42\n",
    ")\n",
    "\n",
    "paramGrid = ParamGridBuilder() \\\n",
    "    .addGrid(als.rank, [8, 10, 12, 14, 16, 18, 20]) \\\n",
    "    .addGrid(als.regParam, [0.001, 0.01, 0.05, 0.1, 0.2]) \\\n",
    "    .build()\n",
    "\n",
    "evaluator = RegressionEvaluator(\n",
    "    metricName=\"rmse\",\n",
    "    labelCol=\"rating\",\n",
    "    predictionCol=\"prediction\"\n",
    ")\n",
    "\n",
    "crossval = CrossValidator(\n",
    "    estimator=als,\n",
    "    estimatorParamMaps=paramGrid,\n",
    "    evaluator=evaluator,\n",
    "    numFolds=3\n",
    ")\n",
    "\n",
    "cvModel = crossval.fit(train)\n",
    "\n",
    "predictions = cvModel.bestModel.transform(test)\n",
    "\n",
    "best_rmse = evaluator.evaluate(predictions)\n",
    "\n",
    "print(\"\\nThe best model has {} latent factors and regularization = {}, with RMSE = {}\".format(\n",
    "    cvModel.bestModel.rank, \n",
    "    cvModel.bestModel._java_obj.parent().getRegParam(), \n",
    "    best_rmse\n",
    "))\n",
    "\n",
    "best_rank = cvModel.bestModel.rank\n",
    "best_reg_param = cvModel.bestModel._java_obj.parent().getRegParam()"
   ]
  },
  {
   "cell_type": "code",
   "execution_count": 12,
   "metadata": {},
   "outputs": [
    {
     "name": "stderr",
     "output_type": "stream",
     "text": [
      "                                                                                \r"
     ]
    },
    {
     "name": "stdout",
     "output_type": "stream",
     "text": [
      "RMSE for maxIter=1: 3.1105152086572403\n"
     ]
    },
    {
     "name": "stderr",
     "output_type": "stream",
     "text": [
      "                                                                                \r"
     ]
    },
    {
     "name": "stdout",
     "output_type": "stream",
     "text": [
      "RMSE for maxIter=2: 0.9252334847883946\n"
     ]
    },
    {
     "name": "stderr",
     "output_type": "stream",
     "text": [
      "                                                                                \r"
     ]
    },
    {
     "name": "stdout",
     "output_type": "stream",
     "text": [
      "RMSE for maxIter=3: 0.8347791691152483\n"
     ]
    },
    {
     "name": "stderr",
     "output_type": "stream",
     "text": [
      "                                                                                \r"
     ]
    },
    {
     "name": "stdout",
     "output_type": "stream",
     "text": [
      "RMSE for maxIter=4: 0.8177706373235545\n"
     ]
    },
    {
     "name": "stderr",
     "output_type": "stream",
     "text": [
      "                                                                                \r"
     ]
    },
    {
     "name": "stdout",
     "output_type": "stream",
     "text": [
      "RMSE for maxIter=5: 0.808774152705564\n"
     ]
    },
    {
     "name": "stderr",
     "output_type": "stream",
     "text": [
      "                                                                                \r"
     ]
    },
    {
     "name": "stdout",
     "output_type": "stream",
     "text": [
      "RMSE for maxIter=6: 0.8028245274585061\n"
     ]
    },
    {
     "name": "stderr",
     "output_type": "stream",
     "text": [
      "                                                                                \r"
     ]
    },
    {
     "name": "stdout",
     "output_type": "stream",
     "text": [
      "RMSE for maxIter=7: 0.7985482985684312\n"
     ]
    },
    {
     "name": "stderr",
     "output_type": "stream",
     "text": [
      "                                                                                \r"
     ]
    },
    {
     "name": "stdout",
     "output_type": "stream",
     "text": [
      "RMSE for maxIter=8: 0.7953130303971505\n"
     ]
    },
    {
     "name": "stderr",
     "output_type": "stream",
     "text": [
      "                                                                                \r"
     ]
    },
    {
     "name": "stdout",
     "output_type": "stream",
     "text": [
      "RMSE for maxIter=9: 0.7927781048469138\n"
     ]
    },
    {
     "data": {
      "image/png": "[encoded data removed]",
      "text/plain": [
       "<Figure size 720x360 with 1 Axes>"
      ]
     },
     "metadata": {
      "needs_background": "light"
     },
     "output_type": "display_data"
    }
   ],
   "source": [
    "evaluator = RegressionEvaluator(\n",
    "    metricName=\"rmse\",\n",
    "    labelCol=\"rating\",\n",
    "    predictionCol=\"prediction\"\n",
    ")\n",
    "\n",
    "iter_range = range(1, 10)\n",
    "rmse_values = []\n",
    "\n",
    "for maxIter in iter_range:\n",
    "    als = ALS(\n",
    "        maxIter=maxIter,\n",
    "        rank=best_rank,\n",
    "        regParam=best_reg_param,\n",
    "        userCol=\"userId\",\n",
    "        itemCol=\"movieId\",\n",
    "        ratingCol=\"rating\",\n",
    "        coldStartStrategy=\"drop\",\n",
    "        seed=42\n",
    "    )\n",
    "    model = als.fit(train)\n",
    "\n",
    "    predictions = model.transform(test)\n",
    "    rmse = evaluator.evaluate(predictions)\n",
    "    rmse_values.append(rmse)\n",
    "    print(f\"RMSE for maxIter={maxIter}: {rmse}\")\n",
    "\n",
    "plt.figure(figsize=(10, 5))\n",
    "plt.plot(iter_range, rmse_values, marker='o')\n",
    "plt.title('RMSE vs. Number of Iterations')\n",
    "plt.xlabel('Number of Iterations')\n",
    "plt.ylabel('RMSE')\n",
    "plt.grid(True)\n",
    "plt.show()"
   ]
  },
  {
   "cell_type": "markdown",
   "metadata": {},
   "source": [
    "## Make Recommendations"
   ]
  },
  {
   "cell_type": "code",
   "execution_count": 13,
   "metadata": {},
   "outputs": [
    {
     "name": "stderr",
     "output_type": "stream",
     "text": [
      "                                                                                \r"
     ]
    }
   ],
   "source": [
    "favorites = [\"Iron Man\", \"Black Panther\"]\n",
    "favorite_ids = movies.filter(movies.title.rlike(\"|\".join([f\".*{fav}.*\" for fav in favorites]))) \\\n",
    "                        .select(\"movieId\").distinct()\n",
    "\n",
    "new_user_id = ratings.select(max(\"userId\")).collect()[0][0] + 1\n",
    "highest_rating = ratings.select(max(\"rating\")).collect()[0][0]\n",
    "\n",
    "new_user_data = favorite_ids.withColumn(\"userId\", lit(new_user_id)) \\\n",
    "                            .withColumn(\"rating\", lit(highest_rating)) \\\n",
    "                            .withColumn(\"timestamp\", lit(0))\n",
    "\n",
    "training_data = ratings.union(new_user_data)\n",
    "\n",
    "als = ALS(\n",
    "    maxIter=10,\n",
    "    rank=best_rank,\n",
    "    regParam=best_reg_param,\n",
    "    userCol=\"userId\",\n",
    "    itemCol=\"movieId\",\n",
    "    ratingCol=\"rating\",\n",
    "    coldStartStrategy=\"drop\",\n",
    "    seed=42\n",
    ")\n",
    "model = als.fit(training_data)\n",
    "\n",
    "user_recommendations = model.transform(training_data) \\\n",
    "                            .where(col(\"userId\") != lit(new_user_id)) \\\n",
    "                            .sort(\"prediction\", ascending=False) \\\n",
    "                            .join(movies, \"movieId\") \\\n",
    "                            .select(\"title\") \\\n",
    "                            .distinct() \\\n",
    "                            .collect()"
   ]
  },
  {
   "cell_type": "code",
   "execution_count": 14,
   "metadata": {},
   "outputs": [
    {
     "name": "stdout",
     "output_type": "stream",
     "text": [
      "Top 10 movie recommendations for user who likes ['Iron Man', 'Black Panther']:\n",
      "1: Men in Black (a.k.a. MIB) (1997)\n",
      "2: What's Up, Scarlet? (2005)\n",
      "3: Peter Pan (2000)\n",
      "4: Tides of War (2005)\n",
      "5: Other People (2016)\n",
      "6: Prom (2011)\n",
      "7: Komisarz Blond i Oko sprawiedliwości (2012)\n",
      "8: Aldrich Over Munich: The Making of 'Twilight's Last Gleaming'\n",
      "9: Harmagedon: Genma Wars (1983)\n",
      "10: Mr. Bug Goes to Town (1941)\n"
     ]
    }
   ],
   "source": [
    "print(f\"Top 10 movie recommendations for user who likes {favorites}:\")\n",
    "for i in range(10):\n",
    "    print(f\"{i+1}: {user_recommendations[i][0]}\")"
   ]
  }
 ],
 "metadata": {
  "kernelspec": {
   "display_name": "Python 3 (ipykernel)",
   "language": "python",
   "name": "python3"
  },
  "language_info": {
   "codemirror_mode": {
    "name": "ipython",
    "version": 3
   },
   "file_extension": ".py",
   "mimetype": "text/x-python",
   "name": "python",
   "nbconvert_exporter": "python",
   "pygments_lexer": "ipython3",
   "version": "3.8.12"
  }
 },
 "nbformat": 4,
 "nbformat_minor": 2
}
